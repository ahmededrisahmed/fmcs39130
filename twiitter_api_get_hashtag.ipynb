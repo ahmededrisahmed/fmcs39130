{
  "nbformat": 4,
  "nbformat_minor": 0,
  "metadata": {
    "colab": {
      "provenance": [],
      "authorship_tag": "ABX9TyN8WdVILFtw9AXhPzSW+f+M",
      "include_colab_link": true
    },
    "kernelspec": {
      "name": "python3",
      "display_name": "Python 3"
    },
    "language_info": {
      "name": "python"
    }
  },
  "cells": [
    {
      "cell_type": "markdown",
      "metadata": {
        "id": "view-in-github",
        "colab_type": "text"
      },
      "source": [
        "<a href=\"https://colab.research.google.com/github/ahmededrisahmed/fmcs39130/blob/main/twiitter_api_get_hashtag.ipynb\" target=\"_parent\"><img src=\"https://colab.research.google.com/assets/colab-badge.svg\" alt=\"Open In Colab\"/></a>"
      ]
    },
    {
      "cell_type": "code",
      "execution_count": null,
      "metadata": {
        "id": "SUQBxEJWbjna"
      },
      "outputs": [],
      "source": [
        "import tweepy\n",
        "import pandas as pd\n",
        "\n",
        "# consumer_key = \"sDq4iViNrUs01nRtozqjlFMXC\"\n",
        "# consumer_secret = \"AhMHrrq8qYt4aAueIKiwxjLI2SRHZ4vpI84UMXS8IEojpdCsxt\"\n",
        "# access_key = \"1588248654548279301-RglNooFZz3LgM5BLCmtNLN0mdS1wpz\"\n",
        "# access_secret = \"uUx5tsnNqgb3gyFqhLaUjlEAE3YCUYl4rLPQVssYkvEUJ\"\n",
        "\n",
        "# Authenticate to Twitter\n",
        "auth = tweepy.OAuthHandler(\"sDq4iViNrUs01nRtozqjlFMXC\", \"AhMHrrq8qYt4aAueIKiwxjLI2SRHZ4vpI84UMXS8IEojpdCsxt\")\n",
        "auth.set_access_token(\"1588248654548279301-RglNooFZz3LgM5BLCmtNLN0mdS1wpz\", \"uUx5tsnNqgb3gyFqhLaUjlEAE3YCUYl4rLPQVssYkvEUJ\")\n",
        "\n",
        "api = tweepy.API(auth)\n",
        "\n",
        "# search tweets\n",
        "keywords = 'Amazon_Alexa'\n",
        "limit=300\n",
        "\n",
        "tweets = tweepy.Cursor(api.search, q=keywords, count=100, tweet_mode='extended').items(limit)\n",
        "\n",
        "# create DataFrame\n",
        "columns = ['User', 'Tweet']\n",
        "data = []\n",
        "\n",
        "for tweet in tweets:\n",
        "    data.append([tweet.user.screen_name, tweet.full_text])\n",
        "\n",
        "df = pd.DataFrame(data, columns=columns)\n",
        "\n",
        "print(df)"
      ]
    }
  ]
}