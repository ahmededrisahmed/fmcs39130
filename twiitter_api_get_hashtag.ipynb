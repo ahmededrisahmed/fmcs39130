{
  "nbformat": 4,
  "nbformat_minor": 0,
  "metadata": {
    "colab": {
      "provenance": [],
      "authorship_tag": "ABX9TyPQ8b22Ch6HChEp7bapkEkD",
      "include_colab_link": true
    },
    "kernelspec": {
      "name": "python3",
      "display_name": "Python 3"
    },
    "language_info": {
      "name": "python"
    }
  },
  "cells": [
    {
      "cell_type": "markdown",
      "metadata": {
        "id": "view-in-github",
        "colab_type": "text"
      },
      "source": [
        "<a href=\"https://colab.research.google.com/github/ahmededrisahmed/fmcs39130/blob/main/twiitter_api_get_hashtag.ipynb\" target=\"_parent\"><img src=\"https://colab.research.google.com/assets/colab-badge.svg\" alt=\"Open In Colab\"/></a>"
      ]
    },
    {
      "cell_type": "code",
      "execution_count": 3,
      "metadata": {
        "colab": {
          "base_uri": "https://localhost:8080/",
          "height": 260
        },
        "id": "SUQBxEJWbjna",
        "outputId": "c389ae55-6ed8-491d-a6fd-3472723b1042"
      },
      "outputs": [
        {
          "output_type": "stream",
          "name": "stdout",
          "text": [
            "                User                                              Tweet\n",
            "0     HRHStillStacie  RT @OfficialJoelF: Amazon’s promotion offering...\n",
            "1    BaQxfyu7hjRlkr0  Fire TV Stick 4K Max - Alexa対応音声認識リモコン(第3世代)付属...\n",
            "2            M365FSA  Why is @amazon expanding its @alexa99 Smart Pr...\n",
            "3       kmccoolio_23  RT @theemoneyplug: If you have an Amazon packa...\n",
            "4           Brioneja  After 5 years of using Google Assistant, I'm s...\n",
            "..               ...                                                ...\n",
            "295  BaQxfyu7hjRlkr0  Echo Studio (エコースタジオ)Hi-Fiスマートスピーカーwith 3Dオーディ...\n",
            "296      infoitsport  Amazon sarà il nuovo baby-sitter digitale: stu...\n",
            "297       jasmynanja  RT @OnlyInBOS: Any time an Amazon customer say...\n",
            "298           ebw_2k  RT @jessithebuckeye: ALEXA THANK MY DRIVER  \\n...\n",
            "299   takayuki_stone  Alexaで音楽をかけようとしたらUnlimitedにすると好きな曲を聴けるうんたらかんたら...\n",
            "\n",
            "[300 rows x 2 columns]\n"
          ]
        },
        {
          "output_type": "display_data",
          "data": {
            "text/plain": [
              "<IPython.core.display.Javascript object>"
            ],
            "application/javascript": [
              "\n",
              "    async function download(id, filename, size) {\n",
              "      if (!google.colab.kernel.accessAllowed) {\n",
              "        return;\n",
              "      }\n",
              "      const div = document.createElement('div');\n",
              "      const label = document.createElement('label');\n",
              "      label.textContent = `Downloading \"${filename}\": `;\n",
              "      div.appendChild(label);\n",
              "      const progress = document.createElement('progress');\n",
              "      progress.max = size;\n",
              "      div.appendChild(progress);\n",
              "      document.body.appendChild(div);\n",
              "\n",
              "      const buffers = [];\n",
              "      let downloaded = 0;\n",
              "\n",
              "      const channel = await google.colab.kernel.comms.open(id);\n",
              "      // Send a message to notify the kernel that we're ready.\n",
              "      channel.send({})\n",
              "\n",
              "      for await (const message of channel.messages) {\n",
              "        // Send a message to notify the kernel that we're ready.\n",
              "        channel.send({})\n",
              "        if (message.buffers) {\n",
              "          for (const buffer of message.buffers) {\n",
              "            buffers.push(buffer);\n",
              "            downloaded += buffer.byteLength;\n",
              "            progress.value = downloaded;\n",
              "          }\n",
              "        }\n",
              "      }\n",
              "      const blob = new Blob(buffers, {type: 'application/binary'});\n",
              "      const a = document.createElement('a');\n",
              "      a.href = window.URL.createObjectURL(blob);\n",
              "      a.download = filename;\n",
              "      div.appendChild(a);\n",
              "      a.click();\n",
              "      div.remove();\n",
              "    }\n",
              "  "
            ]
          },
          "metadata": {}
        },
        {
          "output_type": "display_data",
          "data": {
            "text/plain": [
              "<IPython.core.display.Javascript object>"
            ],
            "application/javascript": [
              "download(\"download_85643654-63c2-4f7a-a762-db3abceb68d0\", \"twiiter_api_hash_tag.csv\", 62239)"
            ]
          },
          "metadata": {}
        }
      ],
      "source": [
        "import tweepy\n",
        "import pandas as pd\n",
        "\n",
        "# consumer_key = \"sDq4iViNrUs01nRtozqjlFMXC\"\n",
        "# consumer_secret = \"AhMHrrq8qYt4aAueIKiwxjLI2SRHZ4vpI84UMXS8IEojpdCsxt\"\n",
        "# access_key = \"1588248654548279301-RglNooFZz3LgM5BLCmtNLN0mdS1wpz\"\n",
        "# access_secret = \"uUx5tsnNqgb3gyFqhLaUjlEAE3YCUYl4rLPQVssYkvEUJ\"\n",
        "\n",
        "# Authenticate to Twitter\n",
        "auth = tweepy.OAuthHandler(\"sDq4iViNrUs01nRtozqjlFMXC\", \"AhMHrrq8qYt4aAueIKiwxjLI2SRHZ4vpI84UMXS8IEojpdCsxt\")\n",
        "auth.set_access_token(\"1588248654548279301-RglNooFZz3LgM5BLCmtNLN0mdS1wpz\", \"uUx5tsnNqgb3gyFqhLaUjlEAE3YCUYl4rLPQVssYkvEUJ\")\n",
        "\n",
        "api = tweepy.API(auth)\n",
        "\n",
        "# search tweets\n",
        "keywords = 'Amazon_Alexa'\n",
        "limit=300\n",
        "\n",
        "tweets = tweepy.Cursor(api.search, q=keywords, count=100, tweet_mode='extended').items(limit)\n",
        "\n",
        "# create DataFrame\n",
        "columns = ['User', 'Tweet']\n",
        "data = []\n",
        "\n",
        "for tweet in tweets:\n",
        "    data.append([tweet.user.screen_name, tweet.full_text])\n",
        "\n",
        "df = pd.DataFrame(data, columns=columns)\n",
        "\n",
        "print(df)\n",
        "\n",
        "from google.colab import files\n",
        "df.to_csv('twiiter_api_hash_tag.csv')\n",
        "files.download(\"twiiter_api_hash_tag.csv\")"
      ]
    }
  ]
}